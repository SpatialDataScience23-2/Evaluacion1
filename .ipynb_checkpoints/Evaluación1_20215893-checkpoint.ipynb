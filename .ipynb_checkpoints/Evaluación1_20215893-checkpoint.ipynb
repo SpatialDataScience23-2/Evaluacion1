{
 "cells": [
  {
   "cell_type": "markdown",
   "id": "8d68691b",
   "metadata": {},
   "source": [
    "# Evaluación 1\n",
    "Las datas frames elegidas corresponden a las siguientes páginas web: \n",
    "1. Population by country: \n",
    "2. Green House Emissions by country: \n",
    "3. Freshwater withdrawals by country: "
   ]
  },
  {
   "cell_type": "code",
   "execution_count": 35,
   "id": "8f615024",
   "metadata": {},
   "outputs": [
    {
     "data": {
      "text/plain": [
       "[       #         Country  forest Area  (hectares)  Population  (2017)  \\\n",
       " 0      1          Russia                814848460           145452536   \n",
       " 1      2          Brazil                491570000           208504960   \n",
       " 2      3          Canada                346975800            36554348   \n",
       " 3      4   United States                310645000           329791231   \n",
       " 4      5           China                211405700          1410275957   \n",
       " ..   ...             ...                      ...                 ...   \n",
       " 212  211         Bahrain                      620             1456834   \n",
       " 213  212           Aruba                      420              105439   \n",
       " 214  213           Malta                      350              479497   \n",
       " 215  214       Greenland                      220               55928   \n",
       " 216  215  Faeroe Islands                       80               50230   \n",
       " \n",
       "      Sqare meters per capita  \n",
       " 0                      56022  \n",
       " 1                      23576  \n",
       " 2                      94921  \n",
       " 3                       9419  \n",
       " 4                       1499  \n",
       " ..                       ...  \n",
       " 212                        4  \n",
       " 213                       40  \n",
       " 214                        7  \n",
       " 215                       39  \n",
       " 216                       16  \n",
       " \n",
       " [217 rows x 5 columns]]"
      ]
     },
     "execution_count": 35,
     "metadata": {},
     "output_type": "execute_result"
    }
   ],
   "source": [
    "population_Link=\"https://github.com/SpatialDataScience23-2/Evaluacion1/raw/main/data/population.csv\"\n",
    "h2O_withdrawl_Link=\"https://github.com/SpatialDataScience23-2/Evaluacion1/raw/main/data/freshwater_withdrawals.csv\"\n",
    "forest_Link=\"https://www.worldometers.info/food-agriculture/forest-by-country/\"\n",
    "\n",
    "import pandas as pd\n",
    "population=pd.read_csv(population_Link)\n",
    "h2O_withdrawl=pd.read_csv(h2O_withdrawl_Link)\n",
    "forest=pd.read_html(forest_Link,header=0,flavor='bs4')"
   ]
  }
 ],
 "metadata": {
  "kernelspec": {
   "display_name": "Python 3 (ipykernel)",
   "language": "python",
   "name": "python3"
  },
  "language_info": {
   "codemirror_mode": {
    "name": "ipython",
    "version": 3
   },
   "file_extension": ".py",
   "mimetype": "text/x-python",
   "name": "python",
   "nbconvert_exporter": "python",
   "pygments_lexer": "ipython3",
   "version": "3.11.4"
  }
 },
 "nbformat": 4,
 "nbformat_minor": 5
}
