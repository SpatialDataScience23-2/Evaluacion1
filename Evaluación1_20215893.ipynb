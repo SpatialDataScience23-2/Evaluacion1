{
 "cells": [
  {
   "cell_type": "markdown",
   "id": "14168548",
   "metadata": {},
   "source": [
    "# Evaluación 1\n",
    "Las datas frames elegidas corresponden a las siguientes páginas web: \n",
    "1. Population by country: \n",
    "2. Green House Emissions by country: \n",
    "3. Freshwater withdrawals by country: "
   ]
  },
  {
   "cell_type": "code",
   "execution_count": null,
   "id": "69a32755",
   "metadata": {},
   "outputs": [],
   "source": []
  }
 ],
 "metadata": {
  "kernelspec": {
   "display_name": "Python 3 (ipykernel)",
   "language": "python",
   "name": "python3"
  },
  "language_info": {
   "codemirror_mode": {
    "name": "ipython",
    "version": 3
   },
   "file_extension": ".py",
   "mimetype": "text/x-python",
   "name": "python",
   "nbconvert_exporter": "python",
   "pygments_lexer": "ipython3",
   "version": "3.11.4"
  }
 },
 "nbformat": 4,
 "nbformat_minor": 5
}
